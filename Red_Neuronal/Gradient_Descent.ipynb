{
 "cells": [
  {
   "cell_type": "code",
   "execution_count": 1,
   "metadata": {},
   "outputs": [],
   "source": [
    "import numpy as np\n",
    "import matplotlib.pyplot as plt\n",
    "%matplotlib qt\n",
    "from mpl_toolkits.mplot3d import Axes3D"
   ]
  },
  {
   "cell_type": "markdown",
   "metadata": {},
   "source": [
    "*Código para impresión de gráficas 3D:*"
   ]
  },
  {
   "cell_type": "code",
   "execution_count": 2,
   "metadata": {},
   "outputs": [],
   "source": [
    "fig = plt.figure()\n",
    "ax = plt.axes(projection = \"3d\")\n",
    "\n",
    "x = np.linspace(-20,20,num=500)\n",
    "y = np.linspace(-20,20,num=500)\n",
    "\n",
    "def funcion_3D(var_X, var_Y):\n",
    "    \n",
    "    #funcion = (var_X - var_Y)**2\n",
    "    funcion = var_X**2 + var_Y**2\n",
    "    \n",
    "    return funcion\n",
    "\n",
    "X, Y = np.meshgrid(x, y)\n",
    "Z = funcion_3D(X, Y)\n",
    "\n",
    "ax.plot_surface(X,Y,Z, cmap=\"viridis\")\n",
    "ax.set_xlabel(\"X\", fontsize=18, color=\"blue\")\n",
    "ax.set_ylabel(\"Y\", fontsize=18, color=\"blue\")\n",
    "ax.set_zlabel(\"Z\", fontsize=18, color=\"blue\")\n",
    "\n",
    "plt.tight_layout()\n",
    "plt.show()"
   ]
  },
  {
   "cell_type": "markdown",
   "metadata": {},
   "source": [
    "*** \n",
    "*Flechas de los gradientes:*"
   ]
  },
  {
   "cell_type": "code",
   "execution_count": 10,
   "metadata": {},
   "outputs": [],
   "source": [
    "np.random.seed(0)\n",
    "\n",
    "x = np.linspace(-20,20,num=500)\n",
    "y = np.linspace(-20,20,num=500)\n",
    "\n",
    "plt.xlabel(\"X\", fontsize=18, color=\"blue\")\n",
    "plt.ylabel(\"Y\", fontsize=18, color=\"blue\")\n",
    "#plt.plot(x,y)\n",
    "\n",
    "plt.xticks(range(-20,20+1,2))\n",
    "plt.yticks(range(-20,20+1,2))\n",
    "\n",
    "porcentaje_a_tomar_de_la_maginitud_del_gradiente = 0.26  # 0.5 para x^2 + y^2.\n",
    "\n",
    "pnts_x, pnts_y = np.random.normal(0,6,size=(250,)), np.random.normal(0,6,size=(250,))\n",
    "\n",
    "##################################################################################################\n",
    "# Función (x-y)^2 :\n",
    "\n",
    "x_grad_coord = lambda x,y: ((2 * (x-y) * 1)*-1)*porcentaje_a_tomar_de_la_maginitud_del_gradiente\n",
    "y_grad_coord = lambda x,y: ((2 * (x-y) * -1)*-1)*porcentaje_a_tomar_de_la_maginitud_del_gradiente\n",
    "\n",
    "x_vector_coords = [x_grad_coord(x,y) for x,y in zip(pnts_x,pnts_y)]\n",
    "y_vector_coords = [y_grad_coord(x,y) for x,y in zip(pnts_x,pnts_y)]\n",
    "\n",
    "##################################################################################################\n",
    "# Función x^2 + y^2 :\n",
    "\n",
    "# x_grad_coord = lambda x: ((2*x)*-1)*porcentaje_a_tomar_de_la_maginitud_del_gradiente\n",
    "# y_grad_coord = lambda y: ((2*y)*-1)*porcentaje_a_tomar_de_la_maginitud_del_gradiente\n",
    "\n",
    "# x_vector_coords = [x_grad_coord(x) for x in pnts_x]\n",
    "# y_vector_coords = [x_grad_coord(y) for y in pnts_y]\n",
    "\n",
    "##################################################################################################\n",
    "\n",
    "for pnts_x_single, pnts_y_single, x_vector_coord_single, y_vector_coord_single in zip(pnts_x, pnts_y, x_vector_coords, y_vector_coords):\n",
    "    plt.arrow(pnts_x_single, pnts_y_single, x_vector_coord_single, y_vector_coord_single, head_width=0.6, facecolor=\"cyan\", length_includes_head=True)\n",
    "\n",
    "plt.grid()\n",
    "plt.tight_layout()\n",
    "plt.show()"
   ]
  },
  {
   "cell_type": "markdown",
   "metadata": {},
   "source": [
    "*Gráfica de la función $f(x,y) = x^2 + y^2$:*"
   ]
  },
  {
   "cell_type": "code",
   "execution_count": 4,
   "metadata": {},
   "outputs": [
    {
     "name": "stdout",
     "output_type": "stream",
     "text": [
      "Point Coord:  (20, -20, 800)\n",
      "Point Coord:  (0.0, 0.0, 0.0)\n",
      "Point Coord:  (0.0, 0.0, 0.0)\n",
      "Point Coord:  (0.0, 0.0, 0.0)\n",
      "Point Coord:  (0.0, 0.0, 0.0)\n",
      "Point Coord:  (0.0, 0.0, 0.0)\n",
      "Point Coord:  (0.0, 0.0, 0.0)\n",
      "Point Coord:  (0.0, 0.0, 0.0)\n",
      "Point Coord:  (0.0, 0.0, 0.0)\n",
      "Point Coord:  (0.0, 0.0, 0.0)\n"
     ]
    }
   ],
   "source": [
    "def funcion_3D(var_X, var_Y):\n",
    "    funcion = var_X**2 + var_Y**2\n",
    "    return funcion\n",
    "\n",
    "def derivada_funcion3D(var_X, var_Y):\n",
    "    dp_X = 2*var_X  # Derivada parcial respecto de X.\n",
    "    dp_Y = 2*var_Y  # Derivada parcial respecto de Y.\n",
    "    return [dp_X, dp_Y]\n",
    "\n",
    "def actualizar_variables(lr, var_X, var_Y, gradiente_X, gradiente_Y):\n",
    "    var_X -= lr * gradiente_X  # var_X = var_X - lr * gradiente_X\n",
    "    var_Y -= lr * gradiente_Y  # var_Y = var_Y - lr * gradiente_Y\n",
    "    return [var_X, var_Y]\n",
    "\n",
    "# Inicializamos valores para poder tabular nuestra función 3D:\n",
    "\n",
    "x = np.linspace(-20,20,num=500)\n",
    "y = np.linspace(-20,20,num=500)\n",
    "\n",
    "X, Y = np.meshgrid(x, y)  # Creamos un grid para gráficar la función 3D.\n",
    "Z = funcion_3D(X, Y)\n",
    "\n",
    "# Aplicamos el descenso del gradiente sobre un punto (x,y,z):\n",
    "\n",
    "x_var, y_var = (20,-20)\n",
    "x_y_z_coords = (x_var, y_var, funcion_3D(x_var,y_var))  # Inicializamos nuestro punto.\n",
    "lr = 0.5\n",
    "point_updates = list()\n",
    "for iteration in range(10):\n",
    "    print(\"Point Coord: \", x_y_z_coords)\n",
    "    point_updates.append(x_y_z_coords)\n",
    "    dp_X, dp_Y = derivada_funcion3D(x_var, y_var)\n",
    "    x_var, y_var = actualizar_variables(lr, x_var, y_var, dp_X, dp_Y)\n",
    "    x_y_z_coords = (x_var, y_var, funcion_3D(x_var,y_var))\n",
    "\n",
    "# Finalmente, imprimimos el plano 3D en conjunto con el avance en el descenso del gradiente para cada gráfica:\n",
    "\n",
    "fig, axes = plt.subplots(nrows=4, ncols=2, figsize=(10,20))\n",
    "#fig, axes = plt.subplots(nrows=1, ncols=2, figsize=(10,20))\n",
    "#axes.resize(1,axes.shape[0])\n",
    "grafica = 1\n",
    "for i in range(axes.shape[0]):\n",
    "    for j in range(axes.shape[1]):\n",
    "        axes[i,j] = fig.add_subplot(int(str(axes.shape[0])+str(axes.shape[1])+str(grafica)),projection=\"3d\")\n",
    "        axes[i,j].plot_surface(X,Y,Z, cmap=\"viridis\", alpha=0.4)  # Imprimimos el plano 3D.\n",
    "        # Inicializamos las etiquetas para nuestros ejes X, Y y Z:\n",
    "        axes[i,j].set_xlabel(\"X\",fontsize=13,color=\"blue\")\n",
    "        axes[i,j].set_ylabel(\"Y\",fontsize=13,color=\"blue\")\n",
    "        axes[i,j].set_zlabel(\"Z\",fontsize=13,color=\"blue\")\n",
    "        axes[i,j].text(-20,-20,1000, f\"Iteración número '{grafica-1}'\", fontsize=10, color=\"red\")\n",
    "        # Indicamos el avance en el descenso del gradiente con un punto rojo:\n",
    "        x_coord, y_coord, z_coord = point_updates[grafica-1]\n",
    "        etiqueta = '(' + str(np.around(x_coord,3)) + ', ' + str(np.around(y_coord,3)) + ', ' + str(np.around(z_coord,3)) + ')'\n",
    "        axes[i,j].plot([x_coord],[y_coord],[z_coord], color=\"green\", marker='o', ms=10, label=f\"Punto: {etiqueta}\")\n",
    "        axes[i,j].legend(fontsize=13)\n",
    "        axes[i,j].view_init(45,0)\n",
    "        grafica += 1\n",
    "        \n",
    "plt.tight_layout()\n",
    "plt.show()"
   ]
  },
  {
   "cell_type": "markdown",
   "metadata": {},
   "source": [
    "***"
   ]
  },
  {
   "cell_type": "code",
   "execution_count": 5,
   "metadata": {},
   "outputs": [],
   "source": [
    "def squared_function(X):\n",
    "    Y = (X)**2\n",
    "    return Y\n",
    "\n",
    "def gradient_descent(point):\n",
    "    partial_derivative = 2*(point)\n",
    "    return partial_derivative\n",
    "\n",
    "def update_point(point, lr, gradient):\n",
    "    return point - lr*gradient"
   ]
  },
  {
   "cell_type": "markdown",
   "metadata": {},
   "source": [
    "**Varias gráficas para mostrar el proceso del descenso del gradiente:**"
   ]
  },
  {
   "cell_type": "code",
   "execution_count": 6,
   "metadata": {},
   "outputs": [
    {
     "name": "stdout",
     "output_type": "stream",
     "text": [
      "Point:  10\n",
      "Point:  -5.0\n",
      "Point:  2.5\n",
      "Point:  -1.25\n",
      "Point:  0.625\n",
      "Point:  -0.3125\n",
      "Point:  0.15625\n",
      "Point:  -0.078125\n",
      "Point:  0.0390625\n",
      "Point:  -0.01953125\n"
     ]
    }
   ],
   "source": [
    "# fig, axes = plt.subplots(nrows=2, ncols=5, figsize=(20,8))  # Horizontal.\n",
    "fig, axes = plt.subplots(nrows=5, ncols=2, figsize=(8,20))  # Vertical.\n",
    "\n",
    "x_points = np.linspace(start=-10, stop=10)\n",
    "Y = squared_function(x_points)\n",
    "\n",
    "point = 10\n",
    "lr = 0.75\n",
    "\n",
    "point_updates = list()\n",
    "for iteration in range(10):\n",
    "    print(\"Point: \", point)\n",
    "    point_updates.append(point)\n",
    "    pd = gradient_descent(point)\n",
    "    point = update_point(point, lr, pd)\n",
    "\n",
    "P = [squared_function(p) for p in point_updates]  # Pasamos los puntos actualizados por la función.\n",
    "\n",
    "pc = 0  # \"pc\" stands for \"point counter\".\n",
    "for i in range(axes.shape[0]):\n",
    "    for j in range(axes.shape[1]):\n",
    "        # Trazamos la gráfica de la función, previo gráficar nuestro punto:\n",
    "        axes[i,j].plot(x_points, Y)\n",
    "        # Imprimos el número de iteración en la gráfica:\n",
    "        axes[i,j].text(-4,60, f\"Iteración número '{pc}'\", fontsize=10)\n",
    "        punto_rojo = (np.around(point_updates[pc], decimals=5), np.around(P[pc], decimals=5))\n",
    "        axes[i,j].plot(point_updates[pc], P[pc], \"ro\", label=str(punto_rojo), ms=8, lw=3)\n",
    "        # Realizamos ciertos ajustes a nuestra gráfica para que se aprecie mejor:\n",
    "        axes[i,j].set_ylabel(\"Y\")\n",
    "        axes[i,j].set_xlabel(\"X\")\n",
    "        axes[i,j].legend(fontsize=10)\n",
    "        axes[i,j].set_xticks(range(-10,10+1,2))\n",
    "        pc += 1\n",
    "\n",
    "plt.tight_layout()"
   ]
  },
  {
   "cell_type": "markdown",
   "metadata": {},
   "source": [
    "**Una sola gráfica:**"
   ]
  },
  {
   "cell_type": "code",
   "execution_count": 7,
   "metadata": {},
   "outputs": [
    {
     "name": "stdout",
     "output_type": "stream",
     "text": [
      "Point:  10\n",
      "Point:  2.0\n",
      "Point:  0.3999999999999999\n",
      "Point:  0.07999999999999996\n",
      "Point:  0.015999999999999986\n",
      "Point:  0.0031999999999999963\n",
      "Point:  0.0006399999999999991\n",
      "Point:  0.00012799999999999975\n",
      "Point:  2.5599999999999945e-05\n",
      "Point:  5.119999999999988e-06\n"
     ]
    }
   ],
   "source": [
    "x_points = np.linspace(start=-10, stop=10)\n",
    "Y = squared_function(x_points)\n",
    "plt.plot(x_points, Y)\n",
    "plt.xlabel(\"X\")\n",
    "plt.ylabel(\"Y\")\n",
    "plt.xticks(range(-10,10+1,2))\n",
    "\n",
    "point = 10\n",
    "lr = 0.4\n",
    "\n",
    "point_updates = list()\n",
    "for iteration in range(10):\n",
    "    print(\"Point: \", point)\n",
    "    point_updates.append(point)\n",
    "    pd = gradient_descent(point)\n",
    "    point = update_point(point, lr, pd)\n",
    "\n",
    "P = [squared_function(p) for p in point_updates]\n",
    "plt.plot(point_updates,P,marker='o')\n",
    "plt.xticks(range(-10,10+1))\n",
    "\n",
    "plt.show()"
   ]
  },
  {
   "cell_type": "markdown",
   "metadata": {},
   "source": [
    "***  \n",
    "**Aplicación del descenso del gradiente a una función en 3D:**"
   ]
  },
  {
   "cell_type": "code",
   "execution_count": 8,
   "metadata": {},
   "outputs": [],
   "source": [
    "def funcion_3D(var_X, var_Y):\n",
    "    funcion = (var_X - var_Y)**2\n",
    "    return funcion\n",
    "\n",
    "def derivada_funcion3D(var_X, var_Y):\n",
    "    dp_X = 2*(var_X - var_Y)*1  # Derivada parcial respecto de X.\n",
    "    dp_Y = 2*(var_X - var_Y)*-1  # Derivada parcial respecto de Y.\n",
    "    return [dp_X, dp_Y]\n",
    "\n",
    "def actualizar_variables(lr, var_X, var_Y, gradiente_X, gradiente_Y):\n",
    "    var_X -= lr * gradiente_X  # var_X = var_X - lr * gradiente_X\n",
    "    var_Y -= lr * gradiente_Y  # var_Y = var_Y - lr * gradiente_Y\n",
    "    return [var_X, var_Y]\n"
   ]
  },
  {
   "cell_type": "code",
   "execution_count": 17,
   "metadata": {},
   "outputs": [
    {
     "name": "stdout",
     "output_type": "stream",
     "text": [
      "Iteración: 0;  Point Coord:  (10, -10, 400)\n",
      "Iteración: 1;  Point Coord:  (-0.40000000000000036, 0.40000000000000036, 0.6400000000000011)\n",
      "Iteración: 2;  Point Coord:  (0.016000000000000014, -0.016000000000000014, 0.001024000000000002)\n",
      "Iteración: 3;  Point Coord:  (-0.0006400000000000017, 0.0006400000000000017, 1.6384000000000085e-06)\n",
      "Iteración: 4;  Point Coord:  (2.560000000000008e-05, -2.560000000000008e-05, 2.6214400000000165e-09)\n",
      "Iteración: 5;  Point Coord:  (-1.0240000000000058e-06, 1.0240000000000058e-06, 4.194304000000047e-12)\n",
      "Iteración: 6;  Point Coord:  (4.096000000000028e-08, -4.096000000000028e-08, 6.710886400000093e-15)\n",
      "Iteración: 7;  Point Coord:  (-1.6384000000000129e-09, 1.6384000000000129e-09, 1.0737418240000168e-17)\n",
      "Iteración: 8;  Point Coord:  (6.553600000000055e-11, -6.553600000000055e-11, 1.7179869184000287e-20)\n",
      "Iteración: 9;  Point Coord:  (-2.6214400000000297e-12, 2.6214400000000297e-12, 2.748779069440062e-23)\n"
     ]
    }
   ],
   "source": [
    "# Inicializamos valores para poder tabular nuestra función 3D:\n",
    "\n",
    "x = np.linspace(-20,20,num=500)\n",
    "y = np.linspace(-20,20,num=500)\n",
    "\n",
    "X, Y = np.meshgrid(x, y)  # Creamos un grid para gráficar la función 3D.\n",
    "Z = funcion_3D(X, Y)\n",
    "\n",
    "# Aplicamos el descenso del gradiente sobre un punto (x,y,z):\n",
    "\n",
    "x_var, y_var = 10,-10\n",
    "x_y_z_coords = (x_var, y_var, funcion_3D(x_var,y_var))  # Inicializamos nuestro punto.\n",
    "lr = 0.26  # Tasa de aprendizaje optima obtenida visualmente al imprimir los vectores gradientes.\n",
    "point_updates = list()\n",
    "for iteration in range(10):\n",
    "    print(f\"Iteración: {iteration}; \", \"Point Coord: \", x_y_z_coords)\n",
    "    point_updates.append(x_y_z_coords)\n",
    "    dp_X, dp_Y = derivada_funcion3D(x_var, y_var)\n",
    "    x_var, y_var = actualizar_variables(lr, x_var, y_var, dp_X, dp_Y)\n",
    "    x_y_z_coords = (x_var, y_var, funcion_3D(x_var,y_var))\n",
    "\n",
    "# Finalmente, imprimimos el plano 3D en conjunto con el avance en el descenso del gradiente para cada gráfica:\n",
    "\n",
    "fig, axes = plt.subplots(nrows=4, ncols=2, figsize=(10,20))\n",
    "grafica = 1\n",
    "for i in range(axes.shape[0]):\n",
    "    for j in range(axes.shape[1]):\n",
    "        axes[i,j] = fig.add_subplot(int(str(axes.shape[0])+str(axes.shape[1])+str(grafica)),projection=\"3d\")\n",
    "        axes[i,j].plot_surface(X,Y,Z, cmap=\"viridis\", alpha=0.4)  # Imprimimos el plano 3D.\n",
    "        # Inicializamos las etiquetas para nuestros ejes X, Y y Z:\n",
    "        axes[i,j].set_xlabel(\"X\",fontsize=13,color=\"blue\")\n",
    "        axes[i,j].set_ylabel(\"Y\",fontsize=13,color=\"blue\")\n",
    "        axes[i,j].set_zlabel(\"Z\",fontsize=13,color=\"blue\")\n",
    "        axes[i,j].text(-20,-20,1000, f\"Iteración número '{grafica-1}'\", fontsize=10, color=\"red\")\n",
    "        # Indicamos el avance en el descenso del gradiente con un punto rojo:\n",
    "        x_coord, y_coord, z_coord = point_updates[grafica-1]\n",
    "        etiqueta = '(' + str(np.around(x_coord,3)) + ', ' + str(np.around(y_coord,3)) + ', ' + str(np.around(z_coord,3)) + ')'\n",
    "        axes[i,j].plot([x_coord],[y_coord],[z_coord], color=\"green\", marker='o', ms=10, label=f\"Punto: {etiqueta}\")\n",
    "        axes[i,j].legend(fontsize=13)\n",
    "        axes[i,j].view_init(45,0)\n",
    "        grafica += 1\n",
    "        \n",
    "plt.tight_layout()\n",
    "plt.show()"
   ]
  },
  {
   "cell_type": "markdown",
   "metadata": {},
   "source": [
    "### **Conclusión, podemos apoyarnos de las flechas gradientes para darnos una idea de la tasa de aprendizaje más optima a tomar (al menos de manera visual). Siempre y cuando la función no exceda las 3 dimensiona, ya que no es posible visualizar una función >= 4 dimensiones en un plano cartesiano.**"
   ]
  },
  {
   "cell_type": "code",
   "execution_count": null,
   "metadata": {},
   "outputs": [],
   "source": []
  }
 ],
 "metadata": {
  "kernelspec": {
   "display_name": "Python 3",
   "language": "python",
   "name": "python3"
  },
  "language_info": {
   "codemirror_mode": {
    "name": "ipython",
    "version": 3
   },
   "file_extension": ".py",
   "mimetype": "text/x-python",
   "name": "python",
   "nbconvert_exporter": "python",
   "pygments_lexer": "ipython3",
   "version": "3.8.3"
  }
 },
 "nbformat": 4,
 "nbformat_minor": 4
}
